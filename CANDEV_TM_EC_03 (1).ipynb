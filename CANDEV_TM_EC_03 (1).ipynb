{
  "nbformat": 4,
  "nbformat_minor": 0,
  "metadata": {
    "colab": {
      "name": "CANDEV TM_EC_03.ipynb",
      "version": "0.3.2",
      "provenance": [],
      "collapsed_sections": []
    },
    "kernelspec": {
      "name": "python3",
      "display_name": "Python 3"
    },
    "accelerator": "GPU"
  },
  "cells": [
    {
      "metadata": {
        "id": "VZ9qYTtZYEM5",
        "colab_type": "code",
        "colab": {}
      },
      "cell_type": "code",
      "source": [
        "#https://github.com/claireaustin/Hackathon_CanDev2018-10-20"
      ],
      "execution_count": 0,
      "outputs": []
    },
    {
      "metadata": {
        "id": "I1K8-SnAN4sH",
        "colab_type": "code",
        "colab": {
          "base_uri": "https://localhost:8080/",
          "height": 34
        },
        "outputId": "7de1658e-8fbd-4ae9-d872-603644c8d955"
      },
      "cell_type": "code",
      "source": [
        "import tensorflow as tf\n",
        "device_name = tf.test.gpu_device_name()\n",
        "if device_name != '/device:GPU:0':\n",
        "  raise SystemError('GPU device not found')\n",
        "print('Found GPU at: {}'.format(device_name))"
      ],
      "execution_count": 48,
      "outputs": [
        {
          "output_type": "stream",
          "text": [
            "Found GPU at: /device:GPU:0\n"
          ],
          "name": "stdout"
        }
      ]
    },
    {
      "metadata": {
        "id": "KgjFD0C6Ld1C",
        "colab_type": "code",
        "colab": {}
      },
      "cell_type": "code",
      "source": [
        "import pandas as pd\n",
        "import numpy as np\n",
        "from xml.etree import ElementTree as ET\n",
        "# from path import path"
      ],
      "execution_count": 0,
      "outputs": []
    },
    {
      "metadata": {
        "id": "8B1usJVyBVZV",
        "colab_type": "code",
        "colab": {
          "resources": {
            "http://localhost:8080/nbextensions/google.colab/files.js": {
              "data": "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",
              "ok": true,
              "headers": [
                [
                  "content-type",
                  "application/javascript"
                ]
              ],
              "status": 200,
              "status_text": ""
            }
          },
          "base_uri": "https://localhost:8080/",
          "height": 74
        },
        "outputId": "2b342f94-af78-44d4-a437-cee1801e0205"
      },
      "cell_type": "code",
      "source": [
        "from google.colab import files\n",
        "uploaded = files.upload()"
      ],
      "execution_count": 51,
      "outputs": [
        {
          "output_type": "display_data",
          "data": {
            "text/html": [
              "\n",
              "     <input type=\"file\" id=\"files-0cf89739-598c-418c-a7b8-b7372a9510a5\" name=\"files[]\" multiple disabled />\n",
              "     <output id=\"result-0cf89739-598c-418c-a7b8-b7372a9510a5\">\n",
              "      Upload widget is only available when the cell has been executed in the\n",
              "      current browser session. Please rerun this cell to enable.\n",
              "      </output>\n",
              "      <script src=\"/nbextensions/google.colab/files.js\"></script> "
            ],
            "text/plain": [
              "<IPython.core.display.HTML object>"
            ]
          },
          "metadata": {
            "tags": []
          }
        },
        {
          "output_type": "stream",
          "text": [
            "Saving OHIDataSet.csv to OHIDataSet (1).csv\n"
          ],
          "name": "stdout"
        }
      ]
    },
    {
      "metadata": {
        "id": "UkZtM8qwMka4",
        "colab_type": "code",
        "colab": {}
      },
      "cell_type": "code",
      "source": [
        "df_original = pd.read_csv(\"OHIDataSet.csv\")"
      ],
      "execution_count": 0,
      "outputs": []
    },
    {
      "metadata": {
        "id": "kfn09Ri4Lsmm",
        "colab_type": "code",
        "colab": {}
      },
      "cell_type": "code",
      "source": [
        ""
      ],
      "execution_count": 0,
      "outputs": []
    },
    {
      "metadata": {
        "id": "XDbhFb5DY1V2",
        "colab_type": "code",
        "colab": {}
      },
      "cell_type": "code",
      "source": [
        "df=df_original.copy()\n",
        "df.head()"
      ],
      "execution_count": 0,
      "outputs": []
    },
    {
      "metadata": {
        "id": "Osxui8JD1ggV",
        "colab_type": "code",
        "colab": {}
      },
      "cell_type": "code",
      "source": [
        "string_file = uploaded.bytes()"
      ],
      "execution_count": 0,
      "outputs": []
    },
    {
      "metadata": {
        "id": "BwF-ZlLtxa92",
        "colab_type": "code",
        "colab": {}
      },
      "cell_type": "code",
      "source": [
        "# 2b-1\n",
        "\n",
        "\n",
        "def b1_check_json_xml(s):\n",
        "    \n",
        "    result= True\n",
        "    try:\n",
        "      x = ET.fromstring(s)\n",
        "    except  e:\n",
        "      xml=False\n",
        "    try:\n",
        "      json_object = json.loads(s)\n",
        "    except e:\n",
        "      json=False\n",
        "      \n",
        "    message=\"xml is \" xml\n",
        "    message+=\"json is \" json\n",
        "    \n",
        "    if xml==False and json==False:\n",
        "      result=False\n",
        "\n",
        "  return result, message\n",
        "    \n",
        "result, message = b1_check_json_xml(string_file)\n",
        "print (result, message)   "
      ],
      "execution_count": 0,
      "outputs": []
    },
    {
      "metadata": {
        "id": "ANacPZiK35yV",
        "colab_type": "code",
        "colab": {}
      },
      "cell_type": "code",
      "source": [
        "# 2b-2\n",
        "\n",
        "\n",
        "def b2_check_3nf(s):\n",
        "    \n",
        "    result= True\n",
        "      \n",
        "    message=\"Steps to find the highest normal form of a relation:\\nFind all possible candidate keys of the relation.\\nDivide all attributes into two categories: prime attributes and non-prime attributes.\\nCheck for 1st normal form then 2nd and so on. If it fails to satisfy nth normal form condition, highest normal form will be n-1.\"\n",
        "    message+=\"\\nif n-1 is 3, then its 3rd normal form\"\n",
        "    return result, message\n",
        "    \n",
        "result, message = b2_check_3nf(df)\n",
        "print (result, message)   "
      ],
      "execution_count": 0,
      "outputs": []
    },
    {
      "metadata": {
        "id": "3BREvVoJ98rz",
        "colab_type": "code",
        "colab": {}
      },
      "cell_type": "code",
      "source": [
        "# 2b-3\n",
        "\n",
        "\n",
        "def b3_check_not_relational(s):\n",
        "    result10, message = b10_check_column_names(df)\n",
        "    result6 = b6_check_columnNames_unique(df)\n",
        "    message=\"\"\n",
        "    result=True\n",
        "    if (result10 and result6):\n",
        "      for k in range(0,len(df.columns)):\n",
        "        alpha=type(df.iloc[0,k])\n",
        "        if not all(isinstance(df.iloc[1:,k], alpha)):\n",
        "            result = False\n",
        "            message+=\"\\ncolumn\"+k+\"has not every row of same type\",\n",
        "    else:\n",
        "      result=False\n",
        "    \n",
        "result = b3_check_not_relational(df)\n",
        "print (result,message)   "
      ],
      "execution_count": 0,
      "outputs": []
    },
    {
      "metadata": {
        "id": "CmVfbKL05N1f",
        "colab_type": "code",
        "colab": {}
      },
      "cell_type": "code",
      "source": [
        "# 2b-6\n",
        "\n",
        "\n",
        "def b6_check_columnNames_unique(df):\n",
        "    result = False\n",
        "    message=\"\"\n",
        "    for k in range(0,len(df.columns)):\n",
        "      if isinstance(df.iloc[0,k], str):\n",
        "        message=\"all columns are string\"\n",
        "        if not any(df.iloc[:,k].duplicated()):\n",
        "          message+=\"\\ncolumn name is not repeated in same row\"\n",
        "          result = True\n",
        "      return result,message\n",
        "    \n",
        "result,message = b6_check_columnNames_unique(df)\n",
        "print (result)\n",
        "print (message)"
      ],
      "execution_count": 0,
      "outputs": []
    },
    {
      "metadata": {
        "id": "7mvu-xE0M88v",
        "colab_type": "code",
        "colab": {}
      },
      "cell_type": "code",
      "source": [
        "# 2b-10-Do all the columns have a column name? (i.e. variable name)\n",
        "def b10_check_column_names(dataframe):\n",
        "    column_names = df.columns.values.tolist()\n",
        "    counter = 1\n",
        "    error_message = \"\"\n",
        "    result = True\n",
        "    for header in column_names:\n",
        "        if header.startswith(\"Unnamed: \"):\n",
        "            error_message += (\" Unnamed column in Column \" + str(counter)+\",\")\n",
        "            result = False\n",
        "        counter+=1\n",
        "    return result, error_message\n",
        "    \n",
        "result, message = b10_check_column_names(df)\n",
        "print (result, message)   "
      ],
      "execution_count": 0,
      "outputs": []
    },
    {
      "metadata": {
        "id": "kWH0TCWNdgY8",
        "colab_type": "code",
        "colab": {}
      },
      "cell_type": "code",
      "source": [
        ""
      ],
      "execution_count": 0,
      "outputs": []
    },
    {
      "metadata": {
        "id": "eT5lXXe1V7KD",
        "colab_type": "code",
        "colab": {}
      },
      "cell_type": "code",
      "source": [
        "# 2b-11-Are the column names consistent with the documentation?\n",
        "#Compares the columns in the dataframe with a list the user provides  \n",
        "def b11_column_names_documentation(dataframe, documented_columns):\n",
        "    column_names = df.columns.values.tolist()\n",
        "    column_names = [name.lower() for name in column_names]\n",
        "    documented_columns = [name.lower() for name in documented_columns]\n",
        "    \n",
        "    error_message = \"\"\n",
        "    result = True\n",
        "    \n",
        "    for column in documented_columns:\n",
        "        if column not in column_names:\n",
        "            result = False\n",
        "            error_message += (column + \" should be a column in our dataframe, \")\n",
        "    return result, error_message,\n",
        "    \n",
        "result, message = b11_column_names_documentation(df, [\"scenario\",\"goals\",\"long_goal\",\n",
        "                                             \"dimension\", \"region_id\", \"region_name\",\n",
        "                                             \"value\"])\n",
        "print (result, message)  "
      ],
      "execution_count": 0,
      "outputs": []
    },
    {
      "metadata": {
        "id": "sCtMc-ztcCEC",
        "colab_type": "code",
        "colab": {}
      },
      "cell_type": "code",
      "source": [
        "# 2b-12\n",
        "#Where possible, is human understable information preferred over coded information \n",
        "#(e.g., \"cat\", \"dog\" instead of \"1\", \"2\" to represent cat and dog, respectively).\n",
        "\n",
        "def b12_categorical_data(df):\n",
        "    length = df.shape[0]\n",
        "    column_names = df.columns.values.tolist()\n",
        "    for column in column_names:\n",
        "        if (df[column].dtype == \"object\"):\n",
        "            for i in df[column]:\n",
        "                if i.isdigit():\n",
        "                    return false, (column + \" column should have representative data\")\n",
        "    return True, \"\"\n",
        "\n",
        "b12_categorical_data(df)"
      ],
      "execution_count": 0,
      "outputs": []
    },
    {
      "metadata": {
        "id": "Sh96duWRXaMP",
        "colab_type": "code",
        "colab": {}
      },
      "cell_type": "code",
      "source": [
        "#2b-13\n",
        "#Does each record (row) have a unique identifier?\n",
        "\n",
        "def b13_unique_id(df):\n",
        "    for column_name in df:\n",
        "        column = df[column_name]\n",
        "        if (column.dtype == \"int64\" and np.array_equal(column, column.astype(int))):\n",
        "            if (column.value_counts().tolist()[0]) == 1:\n",
        "                return True, \"\"\n",
        "            \n",
        "    return False, \"There was no unique identifier\"\n",
        "        \n",
        "b13_unique_id(df)"
      ],
      "execution_count": 0,
      "outputs": []
    },
    {
      "metadata": {
        "id": "Y_ojV-0hceox",
        "colab_type": "code",
        "colab": {}
      },
      "cell_type": "code",
      "source": [
        "#2b-14\n",
        "#Can the tables in a data collection be linked via common fields (columns)?\n",
        "def b14_linked_columns(df):\n",
        "    column_names = df.columns.values.tolist()\n",
        "    length = len(column_names)\n",
        "    for i in range(length-1):\n",
        "        first_word = column_names[i]\n",
        "        for j in range (i+1, length):\n",
        "            second_word = column_names[j]\n",
        "            first_word_split = first_word.split(\"_\")\n",
        "            second_word_split = second_word.split(\"_\")\n",
        "            for k in first_word_split:\n",
        "                if k in second_word:\n",
        "                    return True, \"\"\n",
        "            for l in second_word_split:\n",
        "                if l in first_word: \n",
        "                    return True, \"\"\n",
        "    return False, \"Column fields of the table cannot be linked\"\n",
        "\n",
        "b14_linked_columns(df)"
      ],
      "execution_count": 0,
      "outputs": []
    },
    {
      "metadata": {
        "id": "1aFk0mlr4EyP",
        "colab_type": "code",
        "colab": {}
      },
      "cell_type": "code",
      "source": [
        "#2b-15\n",
        "#Can the data tables be linked to the metadata via common fields (columns)?\n",
        "def b15_columns_linked_to_metadata(df, meta_dict):\n",
        "    column_names = df.columns.values.tolist()\n",
        "    column_names = [name.lower() for name in column_names]\n",
        "    metakeys = list(meta_dict.keys())\n",
        "    metakeys = [name.lower() for name in metakeys]\n",
        "    \n",
        "    error_message = \"\"\n",
        "    result = True \n",
        "    for column in metakeys:\n",
        "        if column not in column_names:\n",
        "            result = False\n",
        "            error_message += (column + \" should be a column in our dataframe, \")\n",
        "    return result, error_message\n",
        "\n",
        "meta_dict ={\n",
        "    \"scenario\": \"Year (2012 to 2017)\",\n",
        "    \"goal\": \"Code for the OHI goal (10 goals, represented by 2 characters; and 8 subgoals, represented by 3 characters), see table below for details\",\n",
        "    \"long_goal\": \"Full goal/subgoal name\",\n",
        "    \"dimension\" : \"Dimension of the OHI score that is being calculated, see table below for details\",\n",
        "    \"region_id\" : \"Numeric identifier of the global region, includes countries and territories\",\n",
        "    \"region_name\" : \"Name of the global region\",\n",
        "    \"value\" : \"Scores ranging from 0-1 for all dimensions except trend, which is between -1 and 1\"\n",
        "}\n",
        "b15_columns_linked_to_metadata(df, meta_dict)"
      ],
      "execution_count": 0,
      "outputs": []
    },
    {
      "metadata": {
        "id": "rgSKhuanBI1_",
        "colab_type": "code",
        "colab": {}
      },
      "cell_type": "code",
      "source": [
        "#b16-17-18\n",
        "# Are the filenames consistent, descriptive, and informative (clearly indicates content) to humans?\n",
        "# Do the filenames follow the convention: less than 70 characters; most unique content at start of filename; no acronyms; no jargon; no organization name?\n",
        "# Was a logical, documented naming convention used for file names?\n",
        "\n",
        "\n",
        "import re\n",
        "\n",
        "def check_word_exists(split_list):\n",
        "    d = enchant.Dict(\"en_US\")\n",
        "    for word in split_list:\n",
        "        if d.check(word):\n",
        "            return True\n",
        "\n",
        "def b16_17_18_filename(filename):\n",
        "    \n",
        "    #check length of filename\n",
        "    if len(filename) > 70:\n",
        "        return False, \"Filename is longer than 70 characters\"\n",
        "    \n",
        "    #check for abbreviations\n",
        "    caps_in_row = 0\n",
        "    for char in filename:\n",
        "        if char.isupper():\n",
        "            caps_in_row += 1\n",
        "        else:\n",
        "            caps_in_row = 0\n",
        "        if caps_in_row >= 3:\n",
        "            return False, \"No abbreviations allowed in filename\"\n",
        "    \n",
        "    #check if there are any special characters\n",
        "    if re.search(\"[^a-zA-Z0-9]+\", Numb) == False:\n",
        "        return False, \"No special Characters allowed in filename\"\n",
        "    \n",
        "    return True, \"\"\n",
        "\n",
        "b16_17_18_filename(\"OHIDataSet.csv\")"
      ],
      "execution_count": 0,
      "outputs": []
    },
    {
      "metadata": {
        "id": "hJIvOJ6sxQu_",
        "colab_type": "code",
        "colab": {}
      },
      "cell_type": "code",
      "source": [
        "# 2b-3 In the case where the data do not reside in a relational database, are the data files tabular?\n",
        "\n"
      ],
      "execution_count": 0,
      "outputs": []
    },
    {
      "metadata": {
        "id": "GlQEDqoW_sio",
        "colab_type": "code",
        "colab": {}
      },
      "cell_type": "code",
      "source": [
        ""
      ],
      "execution_count": 0,
      "outputs": []
    },
    {
      "metadata": {
        "id": "viZ3s79d3YXO",
        "colab_type": "code",
        "colab": {}
      },
      "cell_type": "code",
      "source": [
        "# 2b-5 Was a logical, documented naming convention used for variables (column names)?\n",
        "\n",
        "def b5_check_logical_coloumn_names(df):\n",
        "  headers = df.head(1);\n",
        "  error_message = \"\"\n",
        "  result = True\n",
        "\n",
        "  n = sizeof(headers); \n",
        "  for headers in headers:\n",
        "    if isinstance(headers,str):\n",
        "       result = True\n",
        "    else:\n",
        "      error_message = (\"Variable coloumn names not consistent while naming\")\n",
        "      result = False\n",
        "      return result, error_message\n",
        "    \n",
        "  return True, 'All coloumn headers are strings'\n"
      ],
      "execution_count": 0,
      "outputs": []
    },
    {
      "metadata": {
        "id": "1_dWdbqcBYsC",
        "colab_type": "code",
        "colab": {}
      },
      "cell_type": "code",
      "source": [
        "# 2b-4 Are the field types (column types) used appropriate? (i.e. date field for dates, alphanumeric field for text, numerical field for numbers, etc)\n",
        "\n",
        "def b5_check_logical_coloumn_names(df):\n",
        "  headers = df.head(1);\n",
        "  error_message = \"\"\n",
        "  result = True\n",
        "\n",
        "  n = sizeof(headers); \n",
        "  if \n",
        "  for headers in headers:\n",
        "    if isinstance(headers,str):\n",
        "       result = True\n",
        "    else:\n",
        "      error_message = (\"Variable coloumn names not consistent while naming\")\n",
        "      result = False\n",
        "      return result, error_message\n",
        "    \n",
        "  return True, 'All coloumn headers are strings'\n",
        "\n",
        "\n",
        "def validate(date_text):\n",
        "    try:\n",
        "        datetime.datetime.strptime(date_text, '%Y-%m-%d')\n",
        "    except ValueError:\n",
        "        raise ValueError(\"Incorrect data format, should be YYYY-MM-DD\")"
      ],
      "execution_count": 0,
      "outputs": []
    },
    {
      "metadata": {
        "id": "CoB3M28wP7N4",
        "colab_type": "code",
        "colab": {
          "base_uri": "https://localhost:8080/",
          "height": 67
        },
        "outputId": "d83f97b0-eecc-4364-92fc-a5786f76eaa4"
      },
      "cell_type": "code",
      "source": [
        "def data_fitness_test():\n",
        "    df = pd.read_csv(\"OHIDataSet.csv\")\n",
        "    essential_score = 0\n",
        "    valuable_score = 0\n",
        "    desireable_score= 0\n",
        "    error_log = \"\"\n",
        "    #essential: b3,b4,b6-11,b13-15, max score /11    \n",
        "    try:\n",
        "        if b3_check_not_relational(\"OHIDataSet.csv\"):\n",
        "            essential_score += 1\n",
        "        else:\n",
        "          \n",
        "          error_log += b3_check_not_relational(\"OHIDataSet.csv\")[1]\n",
        "    except:\n",
        "        pass\n",
        "    try:\n",
        "        if b6_check_columnNames_unique(\"OHIDataSet.csv\"):\n",
        "            essential_score += 1\n",
        "        else:\n",
        "          error_log += b6_check_columnNames_unique(\"OHIDataSet.csv\")[1]\n",
        "    except:\n",
        "        pass\n",
        "    if b10_check_column_names(df):\n",
        "        essential_score +=1\n",
        "    else:\n",
        "      error_log += b10_check_column_names(df)[1]\n",
        "    \n",
        "    if b11_column_names_documentation(df, [\"scenario\",\"goals\",\"long_goal\",\n",
        "                                             \"dimension\", \"region_id\", \"region_name\",\n",
        "                                             \"value\"]):\n",
        "        essential_score += 1\n",
        "        \n",
        "    if b13_unique_id(df):\n",
        "        essential_score +=1\n",
        "    if b14_linked_columns(df):\n",
        "        essential_score += 1\n",
        "    meta_dict ={\n",
        "        \"scenario\": \"Year (2012 to 2017)\",\n",
        "        \"goal\": \"Code for the OHI goal (10 goals, represented by 2 characters; and 8 subgoals, represented by 3 characters), see table below for details\",\n",
        "        \"long_goal\": \"Full goal/subgoal name\",\n",
        "        \"dimension\" : \"Dimension of the OHI score that is being calculated, see table below for details\",\n",
        "        \"region_id\" : \"Numeric identifier of the global region, includes countries and territories\",\n",
        "        \"region_name\" : \"Name of the global region\",\n",
        "        \"value\" : \"Scores ranging from 0-1 for all dimensions except trend, which is between -1 and 1\"\n",
        "    }\n",
        "    if b15_columns_linked_to_metadata(df,meta_dict):\n",
        "        essential_score +=1\n",
        "    \n",
        "    \n",
        "    \n",
        "    #valuable: b1,b2,b5,b12,b16,b18 max score /6\n",
        "    try:\n",
        "        if b1_check_json_xml(\"OHIDataSet.csv\"):\n",
        "            valuable_score += 1\n",
        "    except:\n",
        "        pass\n",
        "    \n",
        "    try:\n",
        "        if b2_check_3nf(\"OHIDataSet.csv\"):\n",
        "            valuable_score += 1\n",
        "    except:\n",
        "        pass\n",
        "    \n",
        "    try:\n",
        "        if b5_check_logical_coloumn_names(df):\n",
        "            valuable_score += 1\n",
        "    except:\n",
        "        pass\n",
        "    \n",
        "    if b16_17_18_filename(\"OHIDataSet.csv\"):\n",
        "        valuable_score += 2\n",
        "    \n",
        "    if b12_categorical_data(df)[0]:\n",
        "        valuable_score += 1\n",
        "    #desireable b17,b19 max score /2\n",
        "    \n",
        "    if b16_17_18_filename(\"OHIDataSet.csv\"):\n",
        "        desireable_score += 1\n",
        "    \n",
        "    print(str(essential_score) + \"/11 essential criteria, \", str(valuable_score) +\"/6 valuable score, \", str(desireable_score) +\"/2 desireable score\")\n",
        "    print(\"Overall: \" + str(essential_score + valuable_score + desireable_score ) +\"/19\")\n",
        "    if ((essential_score + valuable_score + desireable_score )/19 > 0.5 ):\n",
        "      print (\"Test Passed\")\n",
        "    else:\n",
        "      print(\"Test Failed\")\n",
        "          \n",
        "data_fitness_test()\n",
        "    "
      ],
      "execution_count": 63,
      "outputs": [
        {
          "output_type": "stream",
          "text": [
            "6/11 essential criteria,  4/6 valuable score,  1/2 desireable score\n",
            "Overall: 11/19\n",
            "Test Passed\n"
          ],
          "name": "stdout"
        }
      ]
    },
    {
      "metadata": {
        "id": "jK4X0AUfSv-Z",
        "colab_type": "code",
        "colab": {}
      },
      "cell_type": "code",
      "source": [
        ""
      ],
      "execution_count": 0,
      "outputs": []
    }
  ]
}